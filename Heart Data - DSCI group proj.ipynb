{
 "cells": [
  {
   "cell_type": "markdown",
   "metadata": {},
   "source": [
    "# Classification of Heart Disease Using K-Nearest Neighbor"
   ]
  },
  {
   "cell_type": "markdown",
   "metadata": {},
   "source": [
    "## Introduction\n",
    "- Literature Review: background info on heart disease\n",
    "- Research Questions\n",
    "- About the Dataset used\n",
    "\n",
    "Many people die of cardiovascular diseases without knowing they have a problem with their heart. Unexpected deaths as such can be prevented with early diagnoses of cardiovascular issues and proper medication. How can the presence of heart diseases be detected in patients? The heart disease data set we are using contains 14 attributes collected from Cleveland and is still used my ML researchers to this day.  "
   ]
  },
  {
   "cell_type": "markdown",
   "metadata": {},
   "source": [
    "## Preliminary Exploratory Data Analysis\n",
    "#### 1. Download and Read the dataset from the web (use URL)"
   ]
  },
  {
   "cell_type": "code",
   "execution_count": 39,
   "metadata": {},
   "outputs": [],
   "source": [
    "# Call packages that will be used.\n",
    "library(tidyverse)\n",
    "library(tidymodels)"
   ]
  },
  {
   "cell_type": "code",
   "execution_count": 18,
   "metadata": {},
   "outputs": [],
   "source": [
    "# Set the value of seed to ensure reproducibility\n",
    "set.seed(200)"
   ]
  },
  {
   "cell_type": "code",
   "execution_count": 19,
   "metadata": {},
   "outputs": [],
   "source": [
    "# To download the dataset from the web\n",
    "url <- 'https://archive.ics.uci.edu/ml/machine-learning-databases/heart-disease/processed.cleveland.data'\n",
    "download.file(url,destfile='Data/HeartDisease_Cleveland.csv')"
   ]
  },
  {
   "cell_type": "code",
   "execution_count": 35,
   "metadata": {},
   "outputs": [
    {
     "name": "stderr",
     "output_type": "stream",
     "text": [
      "Parsed with column specification:\n",
      "cols(\n",
      "  X1 = \u001b[32mcol_double()\u001b[39m,\n",
      "  X2 = \u001b[32mcol_double()\u001b[39m,\n",
      "  X3 = \u001b[32mcol_double()\u001b[39m,\n",
      "  X4 = \u001b[32mcol_double()\u001b[39m,\n",
      "  X5 = \u001b[32mcol_double()\u001b[39m,\n",
      "  X6 = \u001b[32mcol_double()\u001b[39m,\n",
      "  X7 = \u001b[32mcol_double()\u001b[39m,\n",
      "  X8 = \u001b[32mcol_double()\u001b[39m,\n",
      "  X9 = \u001b[32mcol_double()\u001b[39m,\n",
      "  X10 = \u001b[32mcol_double()\u001b[39m,\n",
      "  X11 = \u001b[32mcol_double()\u001b[39m,\n",
      "  X12 = \u001b[31mcol_character()\u001b[39m,\n",
      "  X13 = \u001b[31mcol_character()\u001b[39m,\n",
      "  X14 = \u001b[32mcol_double()\u001b[39m\n",
      ")\n",
      "\n"
     ]
    },
    {
     "data": {
      "text/html": [
       "<table>\n",
       "<caption>A tibble: 6 × 14</caption>\n",
       "<thead>\n",
       "\t<tr><th scope=col>X1</th><th scope=col>X2</th><th scope=col>X3</th><th scope=col>X4</th><th scope=col>X5</th><th scope=col>X6</th><th scope=col>X7</th><th scope=col>X8</th><th scope=col>X9</th><th scope=col>X10</th><th scope=col>X11</th><th scope=col>X12</th><th scope=col>X13</th><th scope=col>X14</th></tr>\n",
       "\t<tr><th scope=col>&lt;dbl&gt;</th><th scope=col>&lt;dbl&gt;</th><th scope=col>&lt;dbl&gt;</th><th scope=col>&lt;dbl&gt;</th><th scope=col>&lt;dbl&gt;</th><th scope=col>&lt;dbl&gt;</th><th scope=col>&lt;dbl&gt;</th><th scope=col>&lt;dbl&gt;</th><th scope=col>&lt;dbl&gt;</th><th scope=col>&lt;dbl&gt;</th><th scope=col>&lt;dbl&gt;</th><th scope=col>&lt;chr&gt;</th><th scope=col>&lt;chr&gt;</th><th scope=col>&lt;dbl&gt;</th></tr>\n",
       "</thead>\n",
       "<tbody>\n",
       "\t<tr><td>63</td><td>1</td><td>1</td><td>145</td><td>233</td><td>1</td><td>2</td><td>150</td><td>0</td><td>2.3</td><td>3</td><td>0.0</td><td>6.0</td><td>0</td></tr>\n",
       "\t<tr><td>67</td><td>1</td><td>4</td><td>160</td><td>286</td><td>0</td><td>2</td><td>108</td><td>1</td><td>1.5</td><td>2</td><td>3.0</td><td>3.0</td><td>2</td></tr>\n",
       "\t<tr><td>67</td><td>1</td><td>4</td><td>120</td><td>229</td><td>0</td><td>2</td><td>129</td><td>1</td><td>2.6</td><td>2</td><td>2.0</td><td>7.0</td><td>1</td></tr>\n",
       "\t<tr><td>37</td><td>1</td><td>3</td><td>130</td><td>250</td><td>0</td><td>0</td><td>187</td><td>0</td><td>3.5</td><td>3</td><td>0.0</td><td>3.0</td><td>0</td></tr>\n",
       "\t<tr><td>41</td><td>0</td><td>2</td><td>130</td><td>204</td><td>0</td><td>2</td><td>172</td><td>0</td><td>1.4</td><td>1</td><td>0.0</td><td>3.0</td><td>0</td></tr>\n",
       "\t<tr><td>56</td><td>1</td><td>2</td><td>120</td><td>236</td><td>0</td><td>0</td><td>178</td><td>0</td><td>0.8</td><td>1</td><td>0.0</td><td>3.0</td><td>0</td></tr>\n",
       "</tbody>\n",
       "</table>\n"
      ],
      "text/latex": [
       "A tibble: 6 × 14\n",
       "\\begin{tabular}{llllllllllllll}\n",
       " X1 & X2 & X3 & X4 & X5 & X6 & X7 & X8 & X9 & X10 & X11 & X12 & X13 & X14\\\\\n",
       " <dbl> & <dbl> & <dbl> & <dbl> & <dbl> & <dbl> & <dbl> & <dbl> & <dbl> & <dbl> & <dbl> & <chr> & <chr> & <dbl>\\\\\n",
       "\\hline\n",
       "\t 63 & 1 & 1 & 145 & 233 & 1 & 2 & 150 & 0 & 2.3 & 3 & 0.0 & 6.0 & 0\\\\\n",
       "\t 67 & 1 & 4 & 160 & 286 & 0 & 2 & 108 & 1 & 1.5 & 2 & 3.0 & 3.0 & 2\\\\\n",
       "\t 67 & 1 & 4 & 120 & 229 & 0 & 2 & 129 & 1 & 2.6 & 2 & 2.0 & 7.0 & 1\\\\\n",
       "\t 37 & 1 & 3 & 130 & 250 & 0 & 0 & 187 & 0 & 3.5 & 3 & 0.0 & 3.0 & 0\\\\\n",
       "\t 41 & 0 & 2 & 130 & 204 & 0 & 2 & 172 & 0 & 1.4 & 1 & 0.0 & 3.0 & 0\\\\\n",
       "\t 56 & 1 & 2 & 120 & 236 & 0 & 0 & 178 & 0 & 0.8 & 1 & 0.0 & 3.0 & 0\\\\\n",
       "\\end{tabular}\n"
      ],
      "text/markdown": [
       "\n",
       "A tibble: 6 × 14\n",
       "\n",
       "| X1 &lt;dbl&gt; | X2 &lt;dbl&gt; | X3 &lt;dbl&gt; | X4 &lt;dbl&gt; | X5 &lt;dbl&gt; | X6 &lt;dbl&gt; | X7 &lt;dbl&gt; | X8 &lt;dbl&gt; | X9 &lt;dbl&gt; | X10 &lt;dbl&gt; | X11 &lt;dbl&gt; | X12 &lt;chr&gt; | X13 &lt;chr&gt; | X14 &lt;dbl&gt; |\n",
       "|---|---|---|---|---|---|---|---|---|---|---|---|---|---|\n",
       "| 63 | 1 | 1 | 145 | 233 | 1 | 2 | 150 | 0 | 2.3 | 3 | 0.0 | 6.0 | 0 |\n",
       "| 67 | 1 | 4 | 160 | 286 | 0 | 2 | 108 | 1 | 1.5 | 2 | 3.0 | 3.0 | 2 |\n",
       "| 67 | 1 | 4 | 120 | 229 | 0 | 2 | 129 | 1 | 2.6 | 2 | 2.0 | 7.0 | 1 |\n",
       "| 37 | 1 | 3 | 130 | 250 | 0 | 0 | 187 | 0 | 3.5 | 3 | 0.0 | 3.0 | 0 |\n",
       "| 41 | 0 | 2 | 130 | 204 | 0 | 2 | 172 | 0 | 1.4 | 1 | 0.0 | 3.0 | 0 |\n",
       "| 56 | 1 | 2 | 120 | 236 | 0 | 0 | 178 | 0 | 0.8 | 1 | 0.0 | 3.0 | 0 |\n",
       "\n"
      ],
      "text/plain": [
       "  X1 X2 X3 X4  X5  X6 X7 X8  X9 X10 X11 X12 X13 X14\n",
       "1 63 1  1  145 233 1  2  150 0  2.3 3   0.0 6.0 0  \n",
       "2 67 1  4  160 286 0  2  108 1  1.5 2   3.0 3.0 2  \n",
       "3 67 1  4  120 229 0  2  129 1  2.6 2   2.0 7.0 1  \n",
       "4 37 1  3  130 250 0  0  187 0  3.5 3   0.0 3.0 0  \n",
       "5 41 0  2  130 204 0  2  172 0  1.4 1   0.0 3.0 0  \n",
       "6 56 1  2  120 236 0  0  178 0  0.8 1   0.0 3.0 0  "
      ]
     },
     "metadata": {},
     "output_type": "display_data"
    }
   ],
   "source": [
    "# Read the 'HeartDisease_Cleveland.csv' file into a dataframe\n",
    "heart_cleve <- read_csv('Data/HeartDisease_Cleveland.csv',col_names=FALSE)\n",
    "head(heart_cleve)"
   ]
  },
  {
   "cell_type": "markdown",
   "metadata": {},
   "source": [
    "#### 2. Clean and Wrangle data into tidy format"
   ]
  },
  {
   "cell_type": "code",
   "execution_count": 41,
   "metadata": {},
   "outputs": [
    {
     "name": "stderr",
     "output_type": "stream",
     "text": [
      "Warning message:\n",
      "“Problem with `mutate()` input `ca`.\n",
      "\u001b[34mℹ\u001b[39m NAs introduced by coercion\n",
      "\u001b[34mℹ\u001b[39m Input `ca` is `as.numeric(ca)`.”\n",
      "Warning message in mask$eval_all_mutate(dots[[i]]):\n",
      "“NAs introduced by coercion”\n"
     ]
    },
    {
     "data": {
      "text/html": [
       "<table>\n",
       "<caption>A tibble: 6 × 14</caption>\n",
       "<thead>\n",
       "\t<tr><th scope=col>age</th><th scope=col>sex</th><th scope=col>cp</th><th scope=col>trestbps</th><th scope=col>chol</th><th scope=col>fbs</th><th scope=col>restecg</th><th scope=col>thalach</th><th scope=col>exang</th><th scope=col>oldpeak</th><th scope=col>slope</th><th scope=col>ca</th><th scope=col>thal</th><th scope=col>num</th></tr>\n",
       "\t<tr><th scope=col>&lt;dbl&gt;</th><th scope=col>&lt;dbl&gt;</th><th scope=col>&lt;dbl&gt;</th><th scope=col>&lt;dbl&gt;</th><th scope=col>&lt;dbl&gt;</th><th scope=col>&lt;dbl&gt;</th><th scope=col>&lt;dbl&gt;</th><th scope=col>&lt;dbl&gt;</th><th scope=col>&lt;dbl&gt;</th><th scope=col>&lt;dbl&gt;</th><th scope=col>&lt;dbl&gt;</th><th scope=col>&lt;dbl&gt;</th><th scope=col>&lt;dbl&gt;</th><th scope=col>&lt;fct&gt;</th></tr>\n",
       "</thead>\n",
       "<tbody>\n",
       "\t<tr><td>63</td><td>1</td><td>1</td><td>145</td><td>233</td><td>1</td><td>2</td><td>150</td><td>0</td><td>2.3</td><td>3</td><td>0</td><td>0</td><td>0</td></tr>\n",
       "\t<tr><td>67</td><td>1</td><td>4</td><td>160</td><td>286</td><td>0</td><td>2</td><td>108</td><td>1</td><td>1.5</td><td>2</td><td>3</td><td>3</td><td>2</td></tr>\n",
       "\t<tr><td>67</td><td>1</td><td>4</td><td>120</td><td>229</td><td>0</td><td>2</td><td>129</td><td>1</td><td>2.6</td><td>2</td><td>2</td><td>2</td><td>1</td></tr>\n",
       "\t<tr><td>37</td><td>1</td><td>3</td><td>130</td><td>250</td><td>0</td><td>0</td><td>187</td><td>0</td><td>3.5</td><td>3</td><td>0</td><td>0</td><td>0</td></tr>\n",
       "\t<tr><td>41</td><td>0</td><td>2</td><td>130</td><td>204</td><td>0</td><td>2</td><td>172</td><td>0</td><td>1.4</td><td>1</td><td>0</td><td>0</td><td>0</td></tr>\n",
       "\t<tr><td>56</td><td>1</td><td>2</td><td>120</td><td>236</td><td>0</td><td>0</td><td>178</td><td>0</td><td>0.8</td><td>1</td><td>0</td><td>0</td><td>0</td></tr>\n",
       "</tbody>\n",
       "</table>\n"
      ],
      "text/latex": [
       "A tibble: 6 × 14\n",
       "\\begin{tabular}{llllllllllllll}\n",
       " age & sex & cp & trestbps & chol & fbs & restecg & thalach & exang & oldpeak & slope & ca & thal & num\\\\\n",
       " <dbl> & <dbl> & <dbl> & <dbl> & <dbl> & <dbl> & <dbl> & <dbl> & <dbl> & <dbl> & <dbl> & <dbl> & <dbl> & <fct>\\\\\n",
       "\\hline\n",
       "\t 63 & 1 & 1 & 145 & 233 & 1 & 2 & 150 & 0 & 2.3 & 3 & 0 & 0 & 0\\\\\n",
       "\t 67 & 1 & 4 & 160 & 286 & 0 & 2 & 108 & 1 & 1.5 & 2 & 3 & 3 & 2\\\\\n",
       "\t 67 & 1 & 4 & 120 & 229 & 0 & 2 & 129 & 1 & 2.6 & 2 & 2 & 2 & 1\\\\\n",
       "\t 37 & 1 & 3 & 130 & 250 & 0 & 0 & 187 & 0 & 3.5 & 3 & 0 & 0 & 0\\\\\n",
       "\t 41 & 0 & 2 & 130 & 204 & 0 & 2 & 172 & 0 & 1.4 & 1 & 0 & 0 & 0\\\\\n",
       "\t 56 & 1 & 2 & 120 & 236 & 0 & 0 & 178 & 0 & 0.8 & 1 & 0 & 0 & 0\\\\\n",
       "\\end{tabular}\n"
      ],
      "text/markdown": [
       "\n",
       "A tibble: 6 × 14\n",
       "\n",
       "| age &lt;dbl&gt; | sex &lt;dbl&gt; | cp &lt;dbl&gt; | trestbps &lt;dbl&gt; | chol &lt;dbl&gt; | fbs &lt;dbl&gt; | restecg &lt;dbl&gt; | thalach &lt;dbl&gt; | exang &lt;dbl&gt; | oldpeak &lt;dbl&gt; | slope &lt;dbl&gt; | ca &lt;dbl&gt; | thal &lt;dbl&gt; | num &lt;fct&gt; |\n",
       "|---|---|---|---|---|---|---|---|---|---|---|---|---|---|\n",
       "| 63 | 1 | 1 | 145 | 233 | 1 | 2 | 150 | 0 | 2.3 | 3 | 0 | 0 | 0 |\n",
       "| 67 | 1 | 4 | 160 | 286 | 0 | 2 | 108 | 1 | 1.5 | 2 | 3 | 3 | 2 |\n",
       "| 67 | 1 | 4 | 120 | 229 | 0 | 2 | 129 | 1 | 2.6 | 2 | 2 | 2 | 1 |\n",
       "| 37 | 1 | 3 | 130 | 250 | 0 | 0 | 187 | 0 | 3.5 | 3 | 0 | 0 | 0 |\n",
       "| 41 | 0 | 2 | 130 | 204 | 0 | 2 | 172 | 0 | 1.4 | 1 | 0 | 0 | 0 |\n",
       "| 56 | 1 | 2 | 120 | 236 | 0 | 0 | 178 | 0 | 0.8 | 1 | 0 | 0 | 0 |\n",
       "\n"
      ],
      "text/plain": [
       "  age sex cp trestbps chol fbs restecg thalach exang oldpeak slope ca thal num\n",
       "1 63  1   1  145      233  1   2       150     0     2.3     3     0  0    0  \n",
       "2 67  1   4  160      286  0   2       108     1     1.5     2     3  3    2  \n",
       "3 67  1   4  120      229  0   2       129     1     2.6     2     2  2    1  \n",
       "4 37  1   3  130      250  0   0       187     0     3.5     3     0  0    0  \n",
       "5 41  0   2  130      204  0   2       172     0     1.4     1     0  0    0  \n",
       "6 56  1   2  120      236  0   0       178     0     0.8     1     0  0    0  "
      ]
     },
     "metadata": {},
     "output_type": "display_data"
    }
   ],
   "source": [
    "# Clean and Wrangle the data into tidy format\n",
    "heart_cleve <- rename(heart_cleve, age = X1,\n",
    "               sex = X2,\n",
    "               cp = X3,\n",
    "               trestbps = X4,\n",
    "               chol = X5,\n",
    "               fbs = X6,\n",
    "               restecg = X7,\n",
    "               thalach = X8,\n",
    "               exang = X9,\n",
    "               oldpeak = X10,\n",
    "               slope = X11,\n",
    "               ca = X12,\n",
    "               thal = X13,\n",
    "               num = X14) %>% \n",
    "            mutate(num = as_factor(num),ca = as.numeric(ca),thal = as.numeric(ca))\n",
    "head(heart_cleve)"
   ]
  },
  {
   "cell_type": "markdown",
   "metadata": {},
   "source": [
    "#### 4. Summary statistics about the training data (use tables)"
   ]
  },
  {
   "cell_type": "code",
   "execution_count": 42,
   "metadata": {},
   "outputs": [],
   "source": [
    "# Split the dataset into training and test sets\n",
    "\n",
    "heart_split <- initial_split(heart_cleve,prop=0.75,strata=num)\n",
    "heart_train <- training(heart_split)\n",
    "heart_test <- testing(heart_split)"
   ]
  },
  {
   "cell_type": "code",
   "execution_count": 88,
   "metadata": {},
   "outputs": [
    {
     "name": "stderr",
     "output_type": "stream",
     "text": [
      "`summarise()` ungrouping output (override with `.groups` argument)\n",
      "\n"
     ]
    },
    {
     "data": {
      "text/html": [
       "<table>\n",
       "<caption>A tibble: 5 × 2</caption>\n",
       "<thead>\n",
       "\t<tr><th scope=col>num</th><th scope=col>n</th></tr>\n",
       "\t<tr><th scope=col>&lt;fct&gt;</th><th scope=col>&lt;int&gt;</th></tr>\n",
       "</thead>\n",
       "<tbody>\n",
       "\t<tr><td>0</td><td>123</td></tr>\n",
       "\t<tr><td>1</td><td> 42</td></tr>\n",
       "\t<tr><td>2</td><td> 26</td></tr>\n",
       "\t<tr><td>3</td><td> 26</td></tr>\n",
       "\t<tr><td>4</td><td> 12</td></tr>\n",
       "</tbody>\n",
       "</table>\n"
      ],
      "text/latex": [
       "A tibble: 5 × 2\n",
       "\\begin{tabular}{ll}\n",
       " num & n\\\\\n",
       " <fct> & <int>\\\\\n",
       "\\hline\n",
       "\t 0 & 123\\\\\n",
       "\t 1 &  42\\\\\n",
       "\t 2 &  26\\\\\n",
       "\t 3 &  26\\\\\n",
       "\t 4 &  12\\\\\n",
       "\\end{tabular}\n"
      ],
      "text/markdown": [
       "\n",
       "A tibble: 5 × 2\n",
       "\n",
       "| num &lt;fct&gt; | n &lt;int&gt; |\n",
       "|---|---|\n",
       "| 0 | 123 |\n",
       "| 1 |  42 |\n",
       "| 2 |  26 |\n",
       "| 3 |  26 |\n",
       "| 4 |  12 |\n",
       "\n"
      ],
      "text/plain": [
       "  num n  \n",
       "1 0   123\n",
       "2 1    42\n",
       "3 2    26\n",
       "4 3    26\n",
       "5 4    12"
      ]
     },
     "metadata": {},
     "output_type": "display_data"
    }
   ],
   "source": [
    "# Summary Statistics about the training data\n",
    "\n",
    "# number of observations in each class\n",
    "heart_sum_class <- heart_train %>% \n",
    "                group_by(num) %>%\n",
    "                summarise(n=n())\n",
    "heart_sum"
   ]
  },
  {
   "cell_type": "code",
   "execution_count": 98,
   "metadata": {},
   "outputs": [
    {
     "data": {
      "text/html": [
       "<table>\n",
       "<caption>A tibble: 4 × 14</caption>\n",
       "<thead>\n",
       "\t<tr><th scope=col>Statistics</th><th scope=col>age</th><th scope=col>sex</th><th scope=col>cp</th><th scope=col>trestbps</th><th scope=col>chol</th><th scope=col>fbs</th><th scope=col>restecg</th><th scope=col>thalach</th><th scope=col>exang</th><th scope=col>oldpeak</th><th scope=col>slope</th><th scope=col>ca</th><th scope=col>thal</th></tr>\n",
       "\t<tr><th scope=col>&lt;chr&gt;</th><th scope=col>&lt;dbl&gt;</th><th scope=col>&lt;dbl&gt;</th><th scope=col>&lt;dbl&gt;</th><th scope=col>&lt;dbl&gt;</th><th scope=col>&lt;dbl&gt;</th><th scope=col>&lt;dbl&gt;</th><th scope=col>&lt;dbl&gt;</th><th scope=col>&lt;dbl&gt;</th><th scope=col>&lt;dbl&gt;</th><th scope=col>&lt;dbl&gt;</th><th scope=col>&lt;dbl&gt;</th><th scope=col>&lt;dbl&gt;</th><th scope=col>&lt;dbl&gt;</th></tr>\n",
       "</thead>\n",
       "<tbody>\n",
       "\t<tr><td>Min   </td><td>29.00000</td><td>0.0000000</td><td>1.00000</td><td> 94.0000</td><td>126.000</td><td>0.0000000</td><td>0.0000000</td><td> 71.0000</td><td>0.0000000</td><td>0.00000</td><td>1.000000</td><td>0.0000000</td><td>0.0000000</td></tr>\n",
       "\t<tr><td>Median</td><td>56.00000</td><td>1.0000000</td><td>3.00000</td><td>130.0000</td><td>244.000</td><td>0.0000000</td><td>0.0000000</td><td>153.0000</td><td>0.0000000</td><td>0.80000</td><td>2.000000</td><td>0.0000000</td><td>0.0000000</td></tr>\n",
       "\t<tr><td>Mean  </td><td>55.12227</td><td>0.6812227</td><td>3.19214</td><td>131.9694</td><td>249.917</td><td>0.1310044</td><td>0.9825328</td><td>149.0699</td><td>0.3144105</td><td>1.00262</td><td>1.611354</td><td>0.7048458</td><td>0.7048458</td></tr>\n",
       "\t<tr><td>Max   </td><td>77.00000</td><td>1.0000000</td><td>4.00000</td><td>200.0000</td><td>564.000</td><td>1.0000000</td><td>2.0000000</td><td>202.0000</td><td>1.0000000</td><td>4.40000</td><td>3.000000</td><td>3.0000000</td><td>3.0000000</td></tr>\n",
       "</tbody>\n",
       "</table>\n"
      ],
      "text/latex": [
       "A tibble: 4 × 14\n",
       "\\begin{tabular}{llllllllllllll}\n",
       " Statistics & age & sex & cp & trestbps & chol & fbs & restecg & thalach & exang & oldpeak & slope & ca & thal\\\\\n",
       " <chr> & <dbl> & <dbl> & <dbl> & <dbl> & <dbl> & <dbl> & <dbl> & <dbl> & <dbl> & <dbl> & <dbl> & <dbl> & <dbl>\\\\\n",
       "\\hline\n",
       "\t Min    & 29.00000 & 0.0000000 & 1.00000 &  94.0000 & 126.000 & 0.0000000 & 0.0000000 &  71.0000 & 0.0000000 & 0.00000 & 1.000000 & 0.0000000 & 0.0000000\\\\\n",
       "\t Median & 56.00000 & 1.0000000 & 3.00000 & 130.0000 & 244.000 & 0.0000000 & 0.0000000 & 153.0000 & 0.0000000 & 0.80000 & 2.000000 & 0.0000000 & 0.0000000\\\\\n",
       "\t Mean   & 55.12227 & 0.6812227 & 3.19214 & 131.9694 & 249.917 & 0.1310044 & 0.9825328 & 149.0699 & 0.3144105 & 1.00262 & 1.611354 & 0.7048458 & 0.7048458\\\\\n",
       "\t Max    & 77.00000 & 1.0000000 & 4.00000 & 200.0000 & 564.000 & 1.0000000 & 2.0000000 & 202.0000 & 1.0000000 & 4.40000 & 3.000000 & 3.0000000 & 3.0000000\\\\\n",
       "\\end{tabular}\n"
      ],
      "text/markdown": [
       "\n",
       "A tibble: 4 × 14\n",
       "\n",
       "| Statistics &lt;chr&gt; | age &lt;dbl&gt; | sex &lt;dbl&gt; | cp &lt;dbl&gt; | trestbps &lt;dbl&gt; | chol &lt;dbl&gt; | fbs &lt;dbl&gt; | restecg &lt;dbl&gt; | thalach &lt;dbl&gt; | exang &lt;dbl&gt; | oldpeak &lt;dbl&gt; | slope &lt;dbl&gt; | ca &lt;dbl&gt; | thal &lt;dbl&gt; |\n",
       "|---|---|---|---|---|---|---|---|---|---|---|---|---|---|\n",
       "| Min    | 29.00000 | 0.0000000 | 1.00000 |  94.0000 | 126.000 | 0.0000000 | 0.0000000 |  71.0000 | 0.0000000 | 0.00000 | 1.000000 | 0.0000000 | 0.0000000 |\n",
       "| Median | 56.00000 | 1.0000000 | 3.00000 | 130.0000 | 244.000 | 0.0000000 | 0.0000000 | 153.0000 | 0.0000000 | 0.80000 | 2.000000 | 0.0000000 | 0.0000000 |\n",
       "| Mean   | 55.12227 | 0.6812227 | 3.19214 | 131.9694 | 249.917 | 0.1310044 | 0.9825328 | 149.0699 | 0.3144105 | 1.00262 | 1.611354 | 0.7048458 | 0.7048458 |\n",
       "| Max    | 77.00000 | 1.0000000 | 4.00000 | 200.0000 | 564.000 | 1.0000000 | 2.0000000 | 202.0000 | 1.0000000 | 4.40000 | 3.000000 | 3.0000000 | 3.0000000 |\n",
       "\n"
      ],
      "text/plain": [
       "  Statistics age      sex       cp      trestbps chol    fbs       restecg  \n",
       "1 Min        29.00000 0.0000000 1.00000  94.0000 126.000 0.0000000 0.0000000\n",
       "2 Median     56.00000 1.0000000 3.00000 130.0000 244.000 0.0000000 0.0000000\n",
       "3 Mean       55.12227 0.6812227 3.19214 131.9694 249.917 0.1310044 0.9825328\n",
       "4 Max        77.00000 1.0000000 4.00000 200.0000 564.000 1.0000000 2.0000000\n",
       "  thalach  exang     oldpeak slope    ca        thal     \n",
       "1  71.0000 0.0000000 0.00000 1.000000 0.0000000 0.0000000\n",
       "2 153.0000 0.0000000 0.80000 2.000000 0.0000000 0.0000000\n",
       "3 149.0699 0.3144105 1.00262 1.611354 0.7048458 0.7048458\n",
       "4 202.0000 1.0000000 4.40000 3.000000 3.0000000 3.0000000"
      ]
     },
     "metadata": {},
     "output_type": "display_data"
    }
   ],
   "source": [
    "# means of predictor variables used in analysis\n",
    "heart_mean <- heart_train%>% \n",
    "                    select(-num) %>%\n",
    "                    map_df(mean,na.rm = TRUE)\n",
    "heart_min <- heart_train %>%\n",
    "                    select(-num) %>%\n",
    "                    map_df(min,na.rm=TRUE)\n",
    "heart_max <- heart_train %>%\n",
    "                    select(-num) %>%\n",
    "                    map_df(max,na.rm=TRUE)\n",
    "heart_median <- heart_train %>%\n",
    "                    select(-num) %>%\n",
    "                    map_df(median,na.rm=TRUE)\n",
    "\n",
    "heart_sum_pred <- rbind(heart_min,heart_median,heart_mean,heart_max) %>%\n",
    "                    mutate(Statistics=c('Min','Median','Mean','Max'),.before=age)\n",
    "heart_sum_pred"
   ]
  },
  {
   "cell_type": "code",
   "execution_count": 95,
   "metadata": {},
   "outputs": [
    {
     "data": {
      "text/html": [
       "2"
      ],
      "text/latex": [
       "2"
      ],
      "text/markdown": [
       "2"
      ],
      "text/plain": [
       "[1] 2"
      ]
     },
     "metadata": {},
     "output_type": "display_data"
    }
   ],
   "source": [
    "# number of rows with missing data\n",
    "any(is.na(heart_train[12]))\n",
    "\n",
    "heart_missing <-0\n",
    "for (n in 1: nrow(heart_train)) {\n",
    "    if (any(is.na(slice(heart_train,n)))==TRUE) {\n",
    "        heart_missing <- heart_missing +1 }\n",
    "        }\n",
    "\n",
    "heart_missing"
   ]
  },
  {
   "cell_type": "code",
   "execution_count": 80,
   "metadata": {},
   "outputs": [
    {
     "data": {
      "text/plain": [
       "      age             sex               cp           trestbps        chol      \n",
       " Min.   :29.00   Min.   :0.0000   Min.   :1.000   Min.   : 94   Min.   :126.0  \n",
       " 1st Qu.:49.00   1st Qu.:0.0000   1st Qu.:3.000   1st Qu.:120   1st Qu.:212.0  \n",
       " Median :56.00   Median :1.0000   Median :3.000   Median :130   Median :244.0  \n",
       " Mean   :55.12   Mean   :0.6812   Mean   :3.192   Mean   :132   Mean   :249.9  \n",
       " 3rd Qu.:62.00   3rd Qu.:1.0000   3rd Qu.:4.000   3rd Qu.:140   3rd Qu.:282.0  \n",
       " Max.   :77.00   Max.   :1.0000   Max.   :4.000   Max.   :200   Max.   :564.0  \n",
       "                                                                               \n",
       "      fbs           restecg          thalach          exang       \n",
       " Min.   :0.000   Min.   :0.0000   Min.   : 71.0   Min.   :0.0000  \n",
       " 1st Qu.:0.000   1st Qu.:0.0000   1st Qu.:132.0   1st Qu.:0.0000  \n",
       " Median :0.000   Median :0.0000   Median :153.0   Median :0.0000  \n",
       " Mean   :0.131   Mean   :0.9825   Mean   :149.1   Mean   :0.3144  \n",
       " 3rd Qu.:0.000   3rd Qu.:2.0000   3rd Qu.:165.0   3rd Qu.:1.0000  \n",
       " Max.   :1.000   Max.   :2.0000   Max.   :202.0   Max.   :1.0000  \n",
       "                                                                  \n",
       "    oldpeak          slope             ca              thal        num    \n",
       " Min.   :0.000   Min.   :1.000   Min.   :0.0000   Min.   :0.0000   0:123  \n",
       " 1st Qu.:0.000   1st Qu.:1.000   1st Qu.:0.0000   1st Qu.:0.0000   1: 41  \n",
       " Median :0.800   Median :2.000   Median :0.0000   Median :0.0000   2: 28  \n",
       " Mean   :1.003   Mean   :1.611   Mean   :0.7048   Mean   :0.7048   3: 26  \n",
       " 3rd Qu.:1.600   3rd Qu.:2.000   3rd Qu.:1.0000   3rd Qu.:1.0000   4: 11  \n",
       " Max.   :4.400   Max.   :3.000   Max.   :3.0000   Max.   :3.0000          \n",
       "                                 NA's   :2        NA's   :2               "
      ]
     },
     "metadata": {},
     "output_type": "display_data"
    }
   ],
   "source": [
    "summary(heart_train)"
   ]
  },
  {
   "cell_type": "markdown",
   "metadata": {},
   "source": [
    "#### 4. Visualize the training data (use plots)\n",
    "    - compare the distributions of each of the predictor variables used in the analysis"
   ]
  },
  {
   "cell_type": "code",
   "execution_count": 105,
   "metadata": {},
   "outputs": [
    {
     "data": {
      "image/png": "[encoded data removed]",
      "text/plain": [
       "plot without title"
      ]
     },
     "metadata": {
      "image/png": {
       "height": 420,
       "width": 420
      }
     },
     "output_type": "display_data"
    }
   ],
   "source": [
    "op\n",
    "heart_plot <- heart_train %>%\n",
    "ggplot(aes(x=age, y=trestbps, colour = thal)) +\n",
    "geom_point() +\n",
    "labs(x = \"Age\", y = \"Resting Blood Pressure Upon Admission to Hospital (mm Hg)\", colour = \"Type of Heart Defect\") \n",
    "\n",
    "heart_plot"
   ]
  },
  {
   "cell_type": "markdown",
   "metadata": {},
   "source": [
    "## Methods\n",
    "- Explain how to conduct the data analysis\n",
    "- Explain which variables you will use\n",
    "- Describe at least one way you will visualize the results"
   ]
  },
  {
   "cell_type": "markdown",
   "metadata": {},
   "source": [
    "## Expected Outcomes and Significance\n",
    "- What do you expect to find?\n",
    "- What impact could such findings have?\n",
    "- What future questions could this lead to?"
   ]
  },
  {
   "cell_type": "code",
   "execution_count": null,
   "metadata": {},
   "outputs": [],
   "source": []
  }
 ],
 "metadata": {
  "kernelspec": {
   "display_name": "R",
   "language": "R",
   "name": "ir"
  },
  "language_info": {
   "codemirror_mode": "r",
   "file_extension": ".r",
   "mimetype": "text/x-r-source",
   "name": "R",
   "pygments_lexer": "r",
   "version": "4.0.0"
  }
 },
 "nbformat": 4,
 "nbformat_minor": 4
}
